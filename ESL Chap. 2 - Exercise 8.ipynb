{
 "cells": [
  {
   "cell_type": "markdown",
   "metadata": {},
   "source": [
    "# Chapter 2 - Exercise 8: ZIPCode"
   ]
  },
  {
   "cell_type": "markdown",
   "metadata": {},
   "source": [
    "Compare the classification performance of linear regression and k– nearest neighbor classification on the zipcode data. \n",
    "In particular, consider only the 2’s and 3’s, and k = 1, 3, 5, 7 and 15. Show both the training and test error for each choice. \n",
    "\n",
    "The zipcode data are available from the book website www-stat.stanford.edu/ElemStatLearn."
   ]
  },
  {
   "cell_type": "code",
   "execution_count": 1,
   "metadata": {
    "collapsed": false
   },
   "outputs": [],
   "source": [
    "import pandas as pd\n",
    "import numpy as np"
   ]
  },
  {
   "cell_type": "code",
   "execution_count": 2,
   "metadata": {
    "collapsed": false
   },
   "outputs": [],
   "source": [
    "dfTrain = pd.read_table(\"zip.train\", sep = ' ', header = None)\n",
    "dfTest = pd.read_table(\"zip.test\", sep = ' ', header = None)"
   ]
  },
  {
   "cell_type": "code",
   "execution_count": 3,
   "metadata": {
    "collapsed": false
   },
   "outputs": [],
   "source": [
    "columnNames = ['Y'] + ['X' + str(u) for u in range(1,dfTrain.shape[1])]\n",
    "\n",
    "dfTrain.columns = columnNames\n",
    "dfTest.columns = columnNames[:len(columnNames)-1]\n",
    "\n",
    "del dfTrain[columnNames[len(columnNames)-1]]"
   ]
  },
  {
   "cell_type": "code",
   "execution_count": 4,
   "metadata": {
    "collapsed": false
   },
   "outputs": [],
   "source": [
    "columnNames = columnNames[:-1]"
   ]
  },
  {
   "cell_type": "code",
   "execution_count": 5,
   "metadata": {
    "collapsed": false,
    "scrolled": true
   },
   "outputs": [],
   "source": [
    "#uncomment next line in order to see the data\n",
    "\n",
    "#dfTrain"
   ]
  },
  {
   "cell_type": "code",
   "execution_count": 6,
   "metadata": {
    "collapsed": false
   },
   "outputs": [],
   "source": [
    "#uncomment next line in order to see the data\n",
    "\n",
    "#dfTest"
   ]
  },
  {
   "cell_type": "code",
   "execution_count": 7,
   "metadata": {
    "collapsed": false,
    "scrolled": false
   },
   "outputs": [],
   "source": [
    "#dfTrain[np.logical_and(dfTrain.Y != 2.,dfTrain.Y != 3.) ]"
   ]
  },
  {
   "cell_type": "code",
   "execution_count": 8,
   "metadata": {
    "collapsed": false
   },
   "outputs": [],
   "source": [
    "dfTrain2 = dfTrain.drop(dfTrain[dfTrain.Y != 2.].index)\n",
    "dfTrain3 = dfTrain.drop(dfTrain[dfTrain.Y != 3.].index)"
   ]
  },
  {
   "cell_type": "code",
   "execution_count": 9,
   "metadata": {
    "collapsed": true
   },
   "outputs": [],
   "source": [
    "dfTrain2.ix[dfTrain2.Y == 2, 'Y'] = -1   ### digit 2 <=>  -1\n",
    "dfTrain3.ix[dfTrain3.Y == 3, 'Y'] = 1  ### digit 3 <=> 1"
   ]
  },
  {
   "cell_type": "code",
   "execution_count": 10,
   "metadata": {
    "collapsed": false
   },
   "outputs": [],
   "source": [
    "dfTrain2 = dfTrain2.reset_index(drop=True)\n",
    "dfTrain3 = dfTrain3.reset_index(drop=True)\n",
    "dfTrain = pd.concat([dfTrain2, dfTrain3])\n",
    "dfTrain = dfTrain.reset_index(drop=True)\n",
    "#dfTrain"
   ]
  },
  {
   "cell_type": "code",
   "execution_count": 11,
   "metadata": {
    "collapsed": true
   },
   "outputs": [],
   "source": [
    "l2 = len(dfTrain2)\n",
    "l3 = len(dfTrain3)\n",
    "ltrain = len(dfTrain)"
   ]
  },
  {
   "cell_type": "code",
   "execution_count": 12,
   "metadata": {
    "collapsed": false
   },
   "outputs": [],
   "source": [
    "Xtrain = dfTrain[columnNames[1:]]\n",
    "Ytrain = dfTrain['Y']"
   ]
  },
  {
   "cell_type": "code",
   "execution_count": 13,
   "metadata": {
    "collapsed": false
   },
   "outputs": [],
   "source": [
    "Xtrain = np.matrix(Xtrain)\n",
    "Ytrain = np.matrix(Ytrain)\n",
    "Ytrain = Ytrain.transpose()"
   ]
  },
  {
   "cell_type": "code",
   "execution_count": 14,
   "metadata": {
    "collapsed": false
   },
   "outputs": [],
   "source": [
    "#Ytrain"
   ]
  },
  {
   "cell_type": "code",
   "execution_count": 15,
   "metadata": {
    "collapsed": true
   },
   "outputs": [],
   "source": [
    "dfTest2 = dfTest.drop(dfTest[dfTest.Y != 2.].index)\n",
    "dfTest3 = dfTest.drop(dfTest[dfTest.Y != 3.].index)"
   ]
  },
  {
   "cell_type": "code",
   "execution_count": 16,
   "metadata": {
    "collapsed": true
   },
   "outputs": [],
   "source": [
    "dfTest2.ix[dfTest2.Y == 2, 'Y'] = -1   ### digit 2 <=>  -1\n",
    "dfTest3.ix[dfTest3.Y == 3, 'Y'] = 1  ### digit 3 <=> 1"
   ]
  },
  {
   "cell_type": "code",
   "execution_count": 17,
   "metadata": {
    "collapsed": true
   },
   "outputs": [],
   "source": [
    "dfTest2 = dfTest2.reset_index(drop=True)\n",
    "dfTest3 = dfTest3.reset_index(drop=True)\n",
    "dfTest = pd.concat([dfTest2, dfTest3])\n",
    "dfTest = dfTest.reset_index(drop=True)\n",
    "#dfTest"
   ]
  },
  {
   "cell_type": "code",
   "execution_count": 18,
   "metadata": {
    "collapsed": true
   },
   "outputs": [],
   "source": [
    "ltest2 = len(dfTest2)\n",
    "ltest3 =  len(dfTest3)"
   ]
  },
  {
   "cell_type": "code",
   "execution_count": 19,
   "metadata": {
    "collapsed": true
   },
   "outputs": [],
   "source": [
    "Ytest = np.matrix(dfTest['Y'])\n",
    "Ytest.resize(len(dfTest),1)\n",
    "Xtest = np.matrix(dfTest[columnNames[1:]])"
   ]
  },
  {
   "cell_type": "markdown",
   "metadata": {
    "collapsed": false
   },
   "source": [
    "## Linear regression: estimate parameters"
   ]
  },
  {
   "cell_type": "code",
   "execution_count": 20,
   "metadata": {
    "collapsed": false
   },
   "outputs": [],
   "source": [
    "betaHat = np.dot(np.dot(np.linalg.pinv(np.dot(Xtrain.transpose(), Xtrain)), Xtrain.transpose()), Ytrain)"
   ]
  },
  {
   "cell_type": "code",
   "execution_count": 21,
   "metadata": {
    "collapsed": true
   },
   "outputs": [],
   "source": [
    "Yest = np.dot(Xtrain, betaHat)\n",
    "trainError = float(sum(np.multiply((Ytrain - Yest),(Ytrain - Yest))) / len(Ytrain))"
   ]
  },
  {
   "cell_type": "code",
   "execution_count": 22,
   "metadata": {
    "collapsed": false
   },
   "outputs": [],
   "source": [
    "Yest.resize(ltrain,1)\n",
    "#Yest"
   ]
  },
  {
   "cell_type": "code",
   "execution_count": 23,
   "metadata": {
    "collapsed": false
   },
   "outputs": [
    {
     "data": {
      "text/plain": [
       "0.09925047911387538"
      ]
     },
     "execution_count": 23,
     "metadata": {},
     "output_type": "execute_result"
    }
   ],
   "source": [
    "trainError"
   ]
  },
  {
   "cell_type": "code",
   "execution_count": 24,
   "metadata": {
    "collapsed": false,
    "scrolled": true
   },
   "outputs": [],
   "source": [
    "residuals = Ytrain - Yest\n",
    "residuals2 = residuals[0:l2]\n",
    "residuals3 = residuals[l2:]\n",
    "#residuals"
   ]
  },
  {
   "cell_type": "code",
   "execution_count": 25,
   "metadata": {
    "collapsed": false,
    "scrolled": true
   },
   "outputs": [
    {
     "data": {
      "text/plain": [
       "0.40355677154582764"
      ]
     },
     "execution_count": 25,
     "metadata": {},
     "output_type": "execute_result"
    }
   ],
   "source": [
    "wrong2 = len([u for u in residuals2 if u > 0])/float(l2)\n",
    "wrong2"
   ]
  },
  {
   "cell_type": "code",
   "execution_count": 26,
   "metadata": {
    "collapsed": false
   },
   "outputs": [
    {
     "data": {
      "text/plain": [
       "0.3966565349544073"
      ]
     },
     "execution_count": 26,
     "metadata": {},
     "output_type": "execute_result"
    }
   ],
   "source": [
    "wrong3 = len([u for u in residuals3 if u < 0])/float(l3)\n",
    "wrong3"
   ]
  },
  {
   "cell_type": "code",
   "execution_count": 27,
   "metadata": {
    "collapsed": false
   },
   "outputs": [],
   "source": [
    "#dfTest"
   ]
  },
  {
   "cell_type": "markdown",
   "metadata": {},
   "source": [
    "## Computing error on test set"
   ]
  },
  {
   "cell_type": "code",
   "execution_count": 28,
   "metadata": {
    "collapsed": false
   },
   "outputs": [
    {
     "data": {
      "text/plain": [
       "0.2183774942344406"
      ]
     },
     "execution_count": 28,
     "metadata": {},
     "output_type": "execute_result"
    }
   ],
   "source": [
    "Ypredict = np.dot(Xtest, betaHat)\n",
    "\n",
    "testError = float(sum(np.multiply((Ytest - Ypredict),(Ytest - Ypredict))) / len(Ytest))\n",
    "testError"
   ]
  },
  {
   "cell_type": "code",
   "execution_count": 29,
   "metadata": {
    "collapsed": false
   },
   "outputs": [],
   "source": [
    "residualTest = Ytest - Ypredict\n",
    "residualTest2 = residualTest[0:ltest2]\n",
    "residualTest3 = residualTest[ltest2:]\n",
    "#residualTest"
   ]
  },
  {
   "cell_type": "code",
   "execution_count": 30,
   "metadata": {
    "collapsed": false
   },
   "outputs": [
    {
     "data": {
      "text/plain": [
       "0.36363636363636365"
      ]
     },
     "execution_count": 30,
     "metadata": {},
     "output_type": "execute_result"
    }
   ],
   "source": [
    "wrong2 = len([u for u in residualTest2 if u > 0])/float(ltest2)\n",
    "wrong2"
   ]
  },
  {
   "cell_type": "code",
   "execution_count": 31,
   "metadata": {
    "collapsed": false
   },
   "outputs": [
    {
     "data": {
      "text/plain": [
       "0.3674698795180723"
      ]
     },
     "execution_count": 31,
     "metadata": {},
     "output_type": "execute_result"
    }
   ],
   "source": [
    "wrong3 = len([u for u in residualTest3 if u < 0])/float(ltest3)\n",
    "wrong3"
   ]
  },
  {
   "cell_type": "markdown",
   "metadata": {},
   "source": [
    "## k-Nearest neighbors on same data"
   ]
  },
  {
   "cell_type": "code",
   "execution_count": 32,
   "metadata": {
    "collapsed": false
   },
   "outputs": [],
   "source": [
    "import numpy as np\n",
    "import matplotlib.pyplot as plt\n",
    "from matplotlib.colors import ListedColormap\n",
    "from sklearn import neighbors, datasets"
   ]
  },
  {
   "cell_type": "code",
   "execution_count": 33,
   "metadata": {
    "collapsed": true
   },
   "outputs": [],
   "source": [
    "# import some data to play with\n",
    "Xtrain = np.asarray(Xtrain)\n",
    "Xtest = np.asarray(Xtest)\n",
    "\n",
    "yTrain = Ytrain.ravel()\n",
    "yTrain = np.ravel(yTrain)"
   ]
  },
  {
   "cell_type": "code",
   "execution_count": 34,
   "metadata": {
    "collapsed": true
   },
   "outputs": [],
   "source": [
    "def knn(n_neighbors):\n",
    "    clf = neighbors.KNeighborsClassifier(n_neighbors, weights='uniform')\n",
    "    clf.fit(Xtrain, yTrain)\n",
    "    Yest = clf.predict(Xtrain)\n",
    "\n",
    "    false2 = 0\n",
    "    false3 = 0\n",
    "    for i in range(len(yTrain)):\n",
    "        if yTrain[i] == 1 and Yest[i] == -1:\n",
    "            false2 +=1\n",
    "        elif yTrain[i] == -1 and Yest[i] == 1:\n",
    "            false3 +=1 \n",
    "        \n",
    "    percFalse2 = false2 / float(len(yTrain))\n",
    "    print (\"% of false 2 digits on training set, number neighbors = \", n_neighbors,\": \", percFalse2)\n",
    "\n",
    "    percFalse3 = false3 / float(len(yTrain))\n",
    "    print (\"% of false 3 digits on training set, number neighbors = \", n_neighbors,\": \", percFalse3)\n",
    "\n",
    "    Yest2 =  clf.predict(Xtest)\n",
    "\n",
    "    false2Test = 0\n",
    "    false3Test = 0\n",
    "    for i in range(len(Ytest)):\n",
    "        if Ytest[i] == 1 and Yest2[i] == -1:\n",
    "            false2Test +=1\n",
    "        elif Ytest[i] == -1 and Yest2[i] == 1:\n",
    "            false3Test +=1\n",
    "\n",
    "    percFalse2Test = false2Test / float(len(Ytest))\n",
    "    print (\"% of false 2 digits on test set, number neighbors = \", n_neighbors,\": \", float(percFalse2Test))\n",
    "\n",
    "    percFalse3Test = false3Test / float(len(Ytest))\n",
    "    print (\"% of false 3 digits on test set, number neighbors = \", n_neighbors,\": \", float(percFalse3Test))\n",
    "    \n",
    "    return"
   ]
  },
  {
   "cell_type": "code",
   "execution_count": 35,
   "metadata": {
    "collapsed": false
   },
   "outputs": [
    {
     "name": "stdout",
     "output_type": "stream",
     "text": [
      "('% of false 2 digits on training set, number neighbors = ', 1, ': ', 0.0)\n",
      "('% of false 3 digits on training set, number neighbors = ', 1, ': ', 0.0)\n",
      "('% of false 2 digits on test set, number neighbors = ', 1, ': ', 0.008241758241758242)\n",
      "('% of false 3 digits on test set, number neighbors = ', 1, ': ', 0.016483516483516484)\n"
     ]
    }
   ],
   "source": [
    "knn(1)"
   ]
  },
  {
   "cell_type": "code",
   "execution_count": 36,
   "metadata": {
    "collapsed": false
   },
   "outputs": [
    {
     "name": "stdout",
     "output_type": "stream",
     "text": [
      "('% of false 2 digits on training set, number neighbors = ', 3, ': ', 0.0028797696184305254)\n",
      "('% of false 3 digits on training set, number neighbors = ', 3, ': ', 0.0021598272138228943)\n",
      "('% of false 2 digits on test set, number neighbors = ', 3, ': ', 0.01098901098901099)\n",
      "('% of false 3 digits on test set, number neighbors = ', 3, ': ', 0.019230769230769232)\n"
     ]
    }
   ],
   "source": [
    "knn(3)"
   ]
  },
  {
   "cell_type": "code",
   "execution_count": 37,
   "metadata": {
    "collapsed": false
   },
   "outputs": [
    {
     "name": "stdout",
     "output_type": "stream",
     "text": [
      "('% of false 2 digits on training set, number neighbors = ', 5, ': ', 0.0021598272138228943)\n",
      "('% of false 3 digits on training set, number neighbors = ', 5, ': ', 0.003599712023038157)\n",
      "('% of false 2 digits on test set, number neighbors = ', 5, ': ', 0.01098901098901099)\n",
      "('% of false 3 digits on test set, number neighbors = ', 5, ': ', 0.019230769230769232)\n"
     ]
    }
   ],
   "source": [
    "knn(5)"
   ]
  },
  {
   "cell_type": "code",
   "execution_count": 38,
   "metadata": {
    "collapsed": false
   },
   "outputs": [
    {
     "name": "stdout",
     "output_type": "stream",
     "text": [
      "('% of false 2 digits on training set, number neighbors = ', 7, ': ', 0.0021598272138228943)\n",
      "('% of false 3 digits on training set, number neighbors = ', 7, ': ', 0.004319654427645789)\n",
      "('% of false 2 digits on test set, number neighbors = ', 7, ': ', 0.008241758241758242)\n",
      "('% of false 3 digits on test set, number neighbors = ', 7, ': ', 0.024725274725274724)\n"
     ]
    }
   ],
   "source": [
    "knn(7)"
   ]
  },
  {
   "cell_type": "code",
   "execution_count": 39,
   "metadata": {
    "collapsed": false
   },
   "outputs": [
    {
     "name": "stdout",
     "output_type": "stream",
     "text": [
      "('% of false 2 digits on training set, number neighbors = ', 15, ': ', 0.0021598272138228943)\n",
      "('% of false 3 digits on training set, number neighbors = ', 15, ': ', 0.007199424046076314)\n",
      "('% of false 2 digits on test set, number neighbors = ', 15, ': ', 0.008241758241758242)\n",
      "('% of false 3 digits on test set, number neighbors = ', 15, ': ', 0.03021978021978022)\n"
     ]
    }
   ],
   "source": [
    "knn(15)"
   ]
  }
 ],
 "metadata": {
  "kernelspec": {
   "display_name": "Python 2",
   "language": "python",
   "name": "python2"
  },
  "language_info": {
   "codemirror_mode": {
    "name": "ipython",
    "version": 2
   },
   "file_extension": ".py",
   "mimetype": "text/x-python",
   "name": "python",
   "nbconvert_exporter": "python",
   "pygments_lexer": "ipython2",
   "version": "2.7.11"
  }
 },
 "nbformat": 4,
 "nbformat_minor": 0
}
